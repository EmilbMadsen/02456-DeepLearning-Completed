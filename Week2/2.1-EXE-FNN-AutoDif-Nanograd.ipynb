{
 "cells": [
  {
   "cell_type": "markdown",
   "metadata": {
    "id": "HAva8TnYFtFu"
   },
   "source": [
    "# Contents and why we need this lab\n",
    "\n",
    "This lab is about implementing neural networks yourself before we start using other frameworks which hide some of the computation from you. It builds on the first lab where you derived the equations for neural network forward and backward propagation and gradient descent parameter updates. \n",
    "\n",
    "All the frameworks for deep learning you will meet from now on uses automatic differentiation (autodiff) so you don't have to code the backward step yourself. In this version of this lab you will develop your own autodif implementation. We also have a [version](https://github.com/DeepLearningDTU/02456-deep-learning-with-PyTorch/blob/master/2_Feedforward_NumPy/2.1-FNN-NumPy.ipynb) of this lab where you have to code the backward pass explicitly in Numpy."
   ]
  },
  {
   "cell_type": "markdown",
   "metadata": {
    "id": "sCa7HzwpFtFy"
   },
   "source": [
    "# External sources of information\n",
    "\n",
    "1. Jupyter notebook. You can find more information about Jupyter notebooks [here](https://jupyter.org/). It will come as part of the [Anaconda](https://www.anaconda.com/) Python installation. \n",
    "2. [NumPy](https://numpy.org/). Part of Anaconda distribution. If you already know how to program most things about Python and NumPy can be found through Google search.\n",
    "3. [Nanograd](https://github.com/rasmusbergpalm/nanograd) is a minimalistic version of autodiff developed by Rasmus Berg Palm that we use for our framework.\n"
   ]
  },
  {
   "cell_type": "markdown",
   "metadata": {
    "id": "1SjiIp-TFtF0"
   },
   "source": [
    "# This notebook will follow the next steps:\n",
    "\n",
    "1. Nanograd automatic differentiation framework\n",
    "2. Finite difference method\n",
    "3. Data generation\n",
    "4. Defining and initializing the network\n",
    "5. Forward pass\n",
    "6. Training loop \n",
    "7. Testing your model\n",
    "8. Further extensions"
   ]
  },
  {
   "cell_type": "markdown",
   "metadata": {
    "id": "OyXeAA-HuT7s"
   },
   "source": [
    "# Nanograd automatic differention framework"
   ]
  },
  {
   "cell_type": "markdown",
   "metadata": {
    "id": "k6UWKCLKubgA"
   },
   "source": [
    "The [Nanograd](https://github.com/rasmusbergpalm/nanograd) framework defines a class Var which both holds a value and gradient value that we can use to store the intermediate values when we apply the chain rule of differentiation."
   ]
  },
  {
   "cell_type": "code",
   "execution_count": 1,
   "metadata": {
    "id": "Jd4CoEBNzNWS"
   },
   "outputs": [],
   "source": [
    "# Copy and pasted from https://github.com/rasmusbergpalm/nanograd/blob/main/nanograd.py\n",
    "\n",
    "from math import exp, log, tanh\n",
    "\n",
    "class Var:\n",
    "    \"\"\"\n",
    "    A variable which holds a float and enables gradient computations.\n",
    "    \"\"\"\n",
    "\n",
    "    def __init__(self, val: float, grad_fn=lambda: []):\n",
    "        assert type(val) == float\n",
    "        self.v = val\n",
    "        self.grad_fn = grad_fn\n",
    "        self.grad = 0.0\n",
    "\n",
    "    def backprop(self, bp):\n",
    "        self.grad += bp\n",
    "        for input, grad in self.grad_fn():\n",
    "            input.backprop(grad * bp)\n",
    "\n",
    "    def backward(self):\n",
    "        self.backprop(1.0)\n",
    "\n",
    "    def __add__(self: 'Var', other: 'Var') -> 'Var':\n",
    "        return Var(self.v + other.v, lambda: [(self, 1.0), (other, 1.0)])\n",
    "\n",
    "    def __mul__(self: 'Var', other: 'Var') -> 'Var':\n",
    "        return Var(self.v * other.v, lambda: [(self, other.v), (other, self.v)])\n",
    "\n",
    "    def __pow__(self, power):\n",
    "        assert type(power) in {float, int}, \"power must be float or int\"\n",
    "        return Var(self.v ** power, lambda: [(self, power * self.v ** (power - 1))])\n",
    "\n",
    "    def __neg__(self: 'Var') -> 'Var':\n",
    "        return Var(-1.0) * self\n",
    "\n",
    "    def __sub__(self: 'Var', other: 'Var') -> 'Var':\n",
    "        return self + (-other)\n",
    "\n",
    "    def __truediv__(self: 'Var', other: 'Var') -> 'Var':\n",
    "        return self * other ** -1\n",
    "\n",
    "    def __repr__(self):\n",
    "        return \"Var(v=%.4f, grad=%.4f)\" % (self.v, self.grad)\n",
    "\n",
    "    def relu(self):\n",
    "        return Var(self.v if self.v > 0.0 else 0.0, lambda: [(self, 1.0 if self.v > 0.0 else 0.0)])\n",
    "    \n",
    "    def identity(self):\n",
    "        return self\n",
    "    \n",
    "    def tanh(self):\n",
    "        return Var((exp(self.v)-exp(-self.v))/(exp(self.v)+exp(-self.v)), lambda: [(self, 1-((exp(self.v)-exp(-self.v))/(exp(self.v)+exp(-self.v)))**2)])\n",
    "    \n",
    "    def sigmoid(self):\n",
    "        return Var(1/(1+exp(-self.v)), lambda: [(self, (1/(1+exp(-self.v)))*(1-(1/(1+exp(-self.v)))))])\n",
    "    \n",
    "    def exp(self):\n",
    "        return Var(exp(self.v), lambda: [(self, exp(self.v))])\n",
    "\n",
    "    def log(self):\n",
    "        return Var(log(self.v), lambda: [(self, self.v ** -1)])"
   ]
  },
  {
   "cell_type": "markdown",
   "metadata": {
    "id": "yDX67D6jzcte"
   },
   "source": [
    "A few examples illustrate how we can use this:"
   ]
  },
  {
   "cell_type": "code",
   "execution_count": 2,
   "metadata": {
    "colab": {
     "base_uri": "https://localhost:8080/"
    },
    "id": "xk6PeLc3zwPT",
    "outputId": "1e8c6d68-749a-44c3-8fce-0029dcc3215b"
   },
   "outputs": [
    {
     "name": "stdout",
     "output_type": "stream",
     "text": [
      "Var(v=3.0000, grad=5.0000)\n",
      "Var(v=5.0000, grad=3.0000)\n",
      "Var(v=15.0000, grad=1.0000)\n"
     ]
    }
   ],
   "source": [
    "a = Var(3.0)\n",
    "b = Var(5.0)\n",
    "f = a * b\n",
    "\n",
    "f.backward()\n",
    "\n",
    "for v in [a, b, f]:\n",
    "    print(v)"
   ]
  },
  {
   "cell_type": "code",
   "execution_count": 3,
   "metadata": {
    "colab": {
     "base_uri": "https://localhost:8080/"
    },
    "id": "JmKhYgsY0g_o",
    "outputId": "d86771b7-4166-40a5-8b35-8a46a5d7b1e9"
   },
   "outputs": [
    {
     "name": "stdout",
     "output_type": "stream",
     "text": [
      "Var(v=3.0000, grad=14.0000)\n",
      "Var(v=5.0000, grad=3.0000)\n",
      "Var(v=15.0000, grad=1.0000)\n",
      "Var(v=9.0000, grad=3.0000)\n",
      "Var(v=27.0000, grad=1.0000)\n",
      "Var(v=42.0000, grad=1.0000)\n"
     ]
    }
   ],
   "source": [
    "a = Var(3.0)\n",
    "b = Var(5.0)\n",
    "c = a * b\n",
    "d = Var(9.0)\n",
    "e = a * d\n",
    "f = c + e\n",
    "\n",
    "f.backward()\n",
    "\n",
    "for v in [a, b, c, d, e, f]:\n",
    "    print(v)"
   ]
  },
  {
   "cell_type": "markdown",
   "metadata": {
    "id": "Fe3B6uEH140p"
   },
   "source": [
    "## Exercise a) What is being calculated?\n",
    "\n",
    "Explain briefly the output of the code? What is the expression we differentiate and with respect to what variables?"
   ]
  },
  {
   "cell_type": "markdown",
   "metadata": {},
   "source": [
    "## Solution\n",
    "The output v is just the value itself. The value grad is the gradient of the function which is the value itself differentiated with respect to the value we print. It is called reverse-mode automatic differentiation, and it is an easy method to get gradients, even from big complex models.\n",
    "\n",
    "The chain-rule is: $y=x1x2$ then $y'=x1'x2+x2'x1$\n",
    "So in the first example to calculate the gradient of a:\n",
    "$$\n",
    "\\frac{df}{da}=\\frac{da}{da}b+\\frac{db}{da}a=b+0=b=5\n",
    "$$\n"
   ]
  },
  {
   "cell_type": "markdown",
   "metadata": {
    "id": "q8_Q0t2I3Ruj"
   },
   "source": [
    "#### Exercise b) How does the backward function work?\n",
    "\n",
    "For the first example above, make a schematic of the data structure which is generated when we define the expression for f. Then execture the backward function by hand to convince yourself that it indeed calculates the gradients with respect to the variables. Write down the sequence of calls to backprop for the first example above."
   ]
  },
  {
   "cell_type": "markdown",
   "metadata": {},
   "source": [
    "## Solution\n",
    "INSERT THE SCHEMATIC REPRESENTATION!!\n",
    "\n",
    "$$\n",
    "\\frac{df}{da}=\\frac{da}{da}b+\\frac{db}{da}a=b+0=b=5\n",
    "$$\n",
    "\n",
    "$$\n",
    "\\frac{df}{db}=\\frac{da}{db}b+\\frac{db}{db}a=0+a=a=3\n",
    "$$"
   ]
  },
  {
   "cell_type": "markdown",
   "metadata": {
    "id": "A5oi21W4gpeM"
   },
   "source": [
    "## Exercise c) What happens if we run backward again?\n",
    "\n",
    "Try to execute the code below. Explain what happens."
   ]
  },
  {
   "cell_type": "code",
   "execution_count": 4,
   "metadata": {
    "colab": {
     "base_uri": "https://localhost:8080/"
    },
    "id": "DCtpJyr-gyX1",
    "outputId": "86d38af1-1c6e-487b-f4e6-bf29f0bb105e"
   },
   "outputs": [
    {
     "name": "stdout",
     "output_type": "stream",
     "text": [
      "Var(v=3.0000, grad=28.0000)\n",
      "Var(v=5.0000, grad=6.0000)\n",
      "Var(v=15.0000, grad=2.0000)\n",
      "Var(v=9.0000, grad=6.0000)\n",
      "Var(v=27.0000, grad=2.0000)\n",
      "Var(v=42.0000, grad=2.0000)\n"
     ]
    }
   ],
   "source": [
    "f.backward()\n",
    "\n",
    "for v in [a, b, c, d, e, f]:\n",
    "    print(v)"
   ]
  },
  {
   "cell_type": "markdown",
   "metadata": {},
   "source": [
    "## Solution\n",
    "When we use f.backward() again, the gradient doubles"
   ]
  },
  {
   "cell_type": "markdown",
   "metadata": {
    "id": "e8bPVq2VhsP-"
   },
   "source": [
    "## Exercise d) Zero gradient\n",
    "\n",
    "We can zero the gradient by backpropagating a -1.0 as is shown in the example below. (If you have run backward multiple time then you also have to run the cell below an equal amount of times.) Explain what is going on."
   ]
  },
  {
   "cell_type": "code",
   "execution_count": 5,
   "metadata": {
    "colab": {
     "base_uri": "https://localhost:8080/"
    },
    "id": "OnyPDQx9lJe0",
    "outputId": "0b86a0c1-3dc7-4f72-e661-649fa7b53c3a"
   },
   "outputs": [
    {
     "name": "stdout",
     "output_type": "stream",
     "text": [
      "Var(v=2.0000, grad=0.0000)\n",
      "Var(v=5.0000, grad=6.0000)\n",
      "Var(v=15.0000, grad=2.0000)\n",
      "Var(v=9.0000, grad=6.0000)\n",
      "Var(v=27.0000, grad=2.0000)\n",
      "Var(v=42.0000, grad=2.0000)\n",
      "-------\n",
      "Var(v=2.0000, grad=0.0000)\n",
      "Var(v=5.0000, grad=3.0000)\n",
      "Var(v=15.0000, grad=1.0000)\n",
      "Var(v=9.0000, grad=3.0000)\n",
      "Var(v=27.0000, grad=1.0000)\n",
      "Var(v=42.0000, grad=1.0000)\n"
     ]
    }
   ],
   "source": [
    "a = Var(2.0)\n",
    "\n",
    "for v in [a, b, c, d, e, f]:\n",
    "    print(v)\n",
    "\n",
    "print(\"-------\")\n",
    "\n",
    "f.backprop(-1.0)\n",
    "\n",
    "for v in [a, b, c, d, e, f]:\n",
    "    print(v)"
   ]
  },
  {
   "cell_type": "markdown",
   "metadata": {},
   "source": [
    "## Solution\n",
    "We can go back again with f.backprop(-1.0). f.backward() is just f.backprop(1)"
   ]
  },
  {
   "cell_type": "markdown",
   "metadata": {
    "id": "U4057_ljNvWB"
   },
   "source": [
    "## Exercise e) Test correctness of derivatives with the finite difference method\n",
    "\n",
    "Write a small function that uses [the finite difference method](https://en.wikipedia.org/wiki/Finite_difference_method) to numerically test that backpropation implementation is working. In short we will use\n",
    "$$\n",
    "\\frac{\\partial f(a)}{\\partial a} \\approx \\frac{f(a+da)-f(a)}{da}\n",
    "$$\n",
    "for $da \\ll 1$.\n",
    "\n",
    "\n",
    "_Insert your code in the cell below._\n"
   ]
  },
  {
   "cell_type": "code",
   "execution_count": 6,
   "metadata": {
    "colab": {
     "base_uri": "https://localhost:8080/"
    },
    "id": "9TGil92lSXDN",
    "outputId": "4993ad11-b380-487c-bcf2-c29a12ef60e1"
   },
   "outputs": [
    {
     "name": "stdout",
     "output_type": "stream",
     "text": [
      "Var(v=3.0000, grad=5.0000)\n",
      "Var(v=5.0000, grad=3.0000)\n",
      "Var(v=15.0000, grad=1.0000)\n",
      "5.000000413701855\n"
     ]
    }
   ],
   "source": [
    "# test function - try to change into other functions as well\n",
    "def test_function(a):\n",
    "  a = Var(a)\n",
    "  b = Var(5.0)\n",
    "  f = a * b\n",
    "  f.backward()\n",
    "  return a,b,f\n",
    "\n",
    "for v in test_function(3.0):\n",
    "  print(v)\n",
    "\n",
    "# Insert your finite difference code here\n",
    "def finite_difference(a, b, f, da=1e-10):\n",
    "    \"\"\"\n",
    "    This function compute the finite difference between\n",
    "    \n",
    "    Input:\n",
    "    da:          The finite difference                           (float)\n",
    "    \n",
    "    Output:\n",
    "    finite_difference: numerical approximation to the derivative (float) \n",
    "    \"\"\"\n",
    "    \n",
    "    fa_da = (a+da)*b          # <- Insert correct expression\n",
    "    fa = f              # <- Insert correct expression\n",
    "\n",
    "    finite_difference = (fa_da - fa) / da\n",
    "    \n",
    "    return finite_difference\n",
    "\n",
    "print(finite_difference(3.0, 5.0, 3.0*5.0))"
   ]
  },
  {
   "cell_type": "markdown",
   "metadata": {},
   "source": [
    "## Solution\n",
    "The function is corrected so that the derivative is calculated. We get approximately which is the same as grad for a."
   ]
  },
  {
   "cell_type": "markdown",
   "metadata": {
    "id": "6pZar5RKaUkg"
   },
   "source": [
    "# Create an artificial dataset to play with\n",
    "\n",
    "We create a non-linear 1d regression task. The generator supports various noise levels and it creates train, validation and test sets. You can modify it yourself if you want more or less challenging tasks."
   ]
  },
  {
   "cell_type": "code",
   "execution_count": 7,
   "metadata": {
    "id": "Y6yfMAQ8aduj"
   },
   "outputs": [],
   "source": [
    "import numpy as np\n",
    "import matplotlib.pyplot as plt\n",
    "\n",
    "np.random.seed(42)"
   ]
  },
  {
   "cell_type": "code",
   "execution_count": 8,
   "metadata": {
    "id": "4YabfD43ajNh"
   },
   "outputs": [],
   "source": [
    "def data_generator(noise=0.1, n_samples=300, D1=True):\n",
    "    # Create covariates and response variable\n",
    "    if D1:\n",
    "        X = np.linspace(-3, 3, num=n_samples).reshape(-1,1) # 1-D\n",
    "        np.random.shuffle(X)\n",
    "        y = np.random.normal((0.5*np.sin(X[:,0]*3) + X[:,0]), noise) # 1-D with trend\n",
    "    else:\n",
    "        X = np.random.multivariate_normal(np.zeros(3), noise*np.eye(3), size = n_samples) # 3-D\n",
    "        np.random.shuffle(X)    \n",
    "        y = np.sin(X[:,0]) - 5*(X[:,1]**2) + 0.5*X[:,2] # 3-D\n",
    "\n",
    "    # Stack them together vertically to split data set\n",
    "    data_set = np.vstack((X.T,y)).T\n",
    "    \n",
    "    train, validation, test = np.split(data_set, [int(0.35*n_samples), int(0.7*n_samples)], axis=0)\n",
    "    \n",
    "    # Standardization of the data, remember we do the standardization with the training set mean and standard deviation\n",
    "    train_mu = np.mean(train, axis=0)\n",
    "    train_sigma = np.std(train, axis=0)\n",
    "    \n",
    "    train = (train-train_mu)/train_sigma\n",
    "    validation = (validation-train_mu)/train_sigma\n",
    "    test = (test-train_mu)/train_sigma\n",
    "    \n",
    "    x_train, x_validation, x_test = train[:,:-1], validation[:,:-1], test[:,:-1]\n",
    "    y_train, y_validation, y_test = train[:,-1], validation[:,-1], test[:,-1]\n",
    "\n",
    "    return x_train, y_train,  x_validation, y_validation, x_test, y_test"
   ]
  },
  {
   "cell_type": "code",
   "execution_count": 9,
   "metadata": {
    "id": "u1oDngHLapIz"
   },
   "outputs": [],
   "source": [
    "D1 = True\n",
    "x_train, y_train,  x_validation, y_validation, x_test, y_test = data_generator(noise=0.5, D1=D1)"
   ]
  },
  {
   "cell_type": "code",
   "execution_count": 10,
   "metadata": {
    "colab": {
     "base_uri": "https://localhost:8080/",
     "height": 265
    },
    "id": "Ysfa3FsBavlm",
    "outputId": "26d5d03c-6c26-47ce-cbab-676c99c30b73"
   },
   "outputs": [
    {
     "data": {
      "image/png": "[encoded data removed]",
      "text/plain": [
       "<Figure size 432x288 with 1 Axes>"
      ]
     },
     "metadata": {
      "needs_background": "light"
     },
     "output_type": "display_data"
    }
   ],
   "source": [
    "if D1:\n",
    "    plt.scatter(x_train[:,0], y_train);\n",
    "    plt.scatter(x_validation[:,0], y_validation);\n",
    "    plt.scatter(x_test[:,0], y_test);\n",
    "else:\n",
    "    plt.scatter(x_train[:,1], y_train);\n",
    "    plt.scatter(x_validation[:,1], y_validation);\n",
    "    plt.scatter(x_test[:,1], y_test);\n",
    "plt.show()"
   ]
  },
  {
   "cell_type": "code",
   "execution_count": 11,
   "metadata": {
    "id": "zac2HHNlgbpm"
   },
   "outputs": [],
   "source": [
    "# convert from nparray to Var\n",
    "def nparray_to_Var(x):\n",
    "  if x.ndim==1:\n",
    "    y = [[Var(float(x[i]))] for i in range(x.shape[0])] # always work with list of list\n",
    "  else:\n",
    "    y = [[Var(float(x[i,j])) for j in range(x.shape[1])] for i in range(x.shape[0])]\n",
    "  return y\n",
    "   \n",
    "x_train = nparray_to_Var(x_train)\n",
    "y_train = nparray_to_Var(y_train)\n",
    "x_validation = nparray_to_Var(x_validation)\n",
    "y_validation = nparray_to_Var(y_validation)\n",
    "x_test = nparray_to_Var(x_test)\n",
    "y_test = nparray_to_Var(y_test)"
   ]
  },
  {
   "cell_type": "markdown",
   "metadata": {
    "id": "VbjrqcpVFtGe"
   },
   "source": [
    "# Defining and initializing the network\n",
    "\n",
    "The steps to create a feed forward neural network are the following:\n",
    "\n",
    "1. **Number of hidden layer and hidden units**. We have to define the number of hidden units in each layer. The number of features in X and the output dimensionality (the size of Y) are given but the numbers in between are set by the researcher. Remember that for each unit in each layer beside in the input has a bias term.\n",
    "2. **Activation functions** for each hidden layer. Each hidden layer in your list must have an activation function (it can also be the linear activation which is equivalent to identity function). The power of neural networks comes from non-linear activation functions that learn representations (features) from the data allowing us to learn from it. \n",
    "3. **Parameter initialization**. We will initialize the weights to have random values. This is done in practice by drawing pseudo random numbers from a Gaussian or uniform distribution. It turns out that for deeper models we have to be careful about how we scale the random numbers. This will be the topic of the exercise below. For now we will just use unit variance Gaussians.  \n",
    "\n",
    "In order to make life easier for ourselves we define a DenseLayer class that takes care of initialization and the forward pass. We can also extend it later with print and advanced initialization capabilities. For the latter we have introduced a Initializer class.\n",
    "\n",
    "Note that we use Sequence in the code below. A Sequence is an ordered list. This means the order we insert and access items are the same."
   ]
  },
  {
   "cell_type": "code",
   "execution_count": 12,
   "metadata": {
    "id": "ij_ieRsAt7Xt"
   },
   "outputs": [],
   "source": [
    "class Initializer:\n",
    "\n",
    "  def init_weights(self, n_in, n_out):\n",
    "    raise NotImplementedError\n",
    "\n",
    "  def init_bias(self, n_out):\n",
    "    raise NotImplementedError"
   ]
  },
  {
   "cell_type": "code",
   "execution_count": 13,
   "metadata": {
    "id": "eb18N5phuIha"
   },
   "outputs": [],
   "source": [
    "import random\n",
    "\n",
    "class NormalInitializer(Initializer):\n",
    "\n",
    "  def __init__(self, mean=0, std=0.1):\n",
    "    self.mean = mean\n",
    "    self.std = std\n",
    "\n",
    "  def init_weights(self, n_in, n_out):\n",
    "    return [[Var(random.gauss(self.mean, self.std)) for _ in range(n_out)] for _ in range(n_in)]\n",
    "\n",
    "  def init_bias(self, n_out):\n",
    "    return [Var(0.0) for _ in range(n_out)]\n",
    "\n",
    "class ConstantInitializer(Initializer):\n",
    "\n",
    "  def __init__(self, weight=1.0, bias=0.0):\n",
    "    self.weight = weight\n",
    "    self.bias = bias\n",
    "\n",
    "  def init_weights(self, n_in, n_out):\n",
    "    return [[Var(self.weight) for _ in range(n_out)] for _ in range(n_in)]\n",
    "\n",
    "  def init_bias(self, n_out):\n",
    "    return [Var(self.bias) for _ in range(n_out)]"
   ]
  },
  {
   "cell_type": "code",
   "execution_count": 14,
   "metadata": {
    "id": "jOLYGnZKuM6W"
   },
   "outputs": [],
   "source": [
    "from typing import Sequence\n",
    "\n",
    "class DenseLayer:\n",
    "    def __init__(self, n_in: int, n_out: int, act_fn, initializer = NormalInitializer()):\n",
    "        self.weights = initializer.init_weights(n_in, n_out)\n",
    "        self.bias = initializer.init_bias(n_out)\n",
    "        self.act_fn = act_fn\n",
    "    \n",
    "    def __repr__(self): \n",
    "        return 'Weights: ' + repr(self.weights) + ' Biases: ' + repr(self.bias)\n",
    "\n",
    "    def printable(self):\n",
    "        prints = [self.weights, self.bias]\n",
    "        return prints\n",
    "    \n",
    "    \n",
    "    def parameters(self) -> Sequence[Var]:\n",
    "      params = []\n",
    "      for r in self.weights:\n",
    "        params += r\n",
    "\n",
    "      return params + self.bias\n",
    "\n",
    "    def forward(self, inputs: Sequence[Var]) -> Sequence[Var]:\n",
    "        assert len(self.weights) == len(inputs), \"weights and inputs must match in first dimension\"\n",
    "        weights = self.weights\n",
    "        out = []\n",
    "        for j in range(len(weights[0])):\n",
    "            #node = Var(0.0) #\n",
    "            node = self.bias[j]\n",
    "            for i in range(len(inputs)):\n",
    "                #node += Var(0.0)  #\n",
    "                node += weights[i][j] * inputs[i]\n",
    "            node = self.act_fn(node)\n",
    "            out.append(node)\n",
    "\n",
    "        return out"
   ]
  },
  {
   "cell_type": "markdown",
   "metadata": {
    "id": "p_8n_SKnIW2F"
   },
   "source": [
    "## Exercise f) Complete the forward pass\n",
    "\n",
    "In the code below we initialize a 1-5-1 network and pass the training set through it. The forward method in DenseLayer is not complete. It  just outputs zeros right now. The method forward should perform an [affine transformation](https://en.wikipedia.org/wiki/Affine_transformation) on the input followed by an application of the activation function."
   ]
  },
  {
   "cell_type": "code",
   "execution_count": 15,
   "metadata": {
    "colab": {
     "base_uri": "https://localhost:8080/"
    },
    "id": "xDEjtePxE7Mv",
    "outputId": "271bcd73-43d6-4255-8ea0-6447b2a0ad8c"
   },
   "outputs": [
    {
     "name": "stdout",
     "output_type": "stream",
     "text": [
      "[[Var(v=0.0225, grad=0.0000)], [Var(v=0.0453, grad=0.0000)], [Var(v=0.0041, grad=0.0000)], [Var(v=0.0165, grad=0.0000)], [Var(v=0.0333, grad=0.0000)], [Var(v=0.0308, grad=0.0000)], [Var(v=0.0200, grad=0.0000)], [Var(v=0.0040, grad=0.0000)], [Var(v=0.0170, grad=0.0000)], [Var(v=0.0124, grad=0.0000)], [Var(v=0.0348, grad=0.0000)], [Var(v=0.0105, grad=0.0000)], [Var(v=0.0279, grad=0.0000)], [Var(v=0.0120, grad=0.0000)], [Var(v=0.0149, grad=0.0000)], [Var(v=0.0290, grad=0.0000)], [Var(v=0.0536, grad=0.0000)], [Var(v=0.0254, grad=0.0000)], [Var(v=0.0027, grad=0.0000)], [Var(v=0.0088, grad=0.0000)], [Var(v=0.0079, grad=0.0000)], [Var(v=0.0035, grad=0.0000)], [Var(v=0.0391, grad=0.0000)], [Var(v=0.0395, grad=0.0000)], [Var(v=0.0046, grad=0.0000)], [Var(v=0.0124, grad=0.0000)], [Var(v=0.0507, grad=0.0000)], [Var(v=0.0557, grad=0.0000)], [Var(v=0.0059, grad=0.0000)], [Var(v=0.0351, grad=0.0000)], [Var(v=0.0155, grad=0.0000)], [Var(v=0.0084, grad=0.0000)], [Var(v=0.0135, grad=0.0000)], [Var(v=0.0147, grad=0.0000)], [Var(v=0.0268, grad=0.0000)], [Var(v=0.0027, grad=0.0000)], [Var(v=0.0168, grad=0.0000)], [Var(v=0.0064, grad=0.0000)], [Var(v=0.0119, grad=0.0000)], [Var(v=0.0085, grad=0.0000)], [Var(v=0.0060, grad=0.0000)], [Var(v=0.0081, grad=0.0000)], [Var(v=0.0525, grad=0.0000)], [Var(v=0.0101, grad=0.0000)], [Var(v=0.0080, grad=0.0000)], [Var(v=0.0098, grad=0.0000)], [Var(v=0.0337, grad=0.0000)], [Var(v=0.0319, grad=0.0000)], [Var(v=0.0037, grad=0.0000)], [Var(v=0.0326, grad=0.0000)], [Var(v=0.0142, grad=0.0000)], [Var(v=0.0012, grad=0.0000)], [Var(v=0.0355, grad=0.0000)], [Var(v=0.0082, grad=0.0000)], [Var(v=0.0564, grad=0.0000)], [Var(v=0.0496, grad=0.0000)], [Var(v=0.0055, grad=0.0000)], [Var(v=0.0061, grad=0.0000)], [Var(v=0.0185, grad=0.0000)], [Var(v=0.0145, grad=0.0000)], [Var(v=0.0330, grad=0.0000)], [Var(v=0.0103, grad=0.0000)], [Var(v=0.0169, grad=0.0000)], [Var(v=0.0160, grad=0.0000)], [Var(v=0.0117, grad=0.0000)], [Var(v=0.0139, grad=0.0000)], [Var(v=0.0149, grad=0.0000)], [Var(v=0.0416, grad=0.0000)], [Var(v=0.0106, grad=0.0000)], [Var(v=0.0164, grad=0.0000)], [Var(v=0.0041, grad=0.0000)], [Var(v=0.0018, grad=0.0000)], [Var(v=0.0323, grad=0.0000)], [Var(v=0.0189, grad=0.0000)], [Var(v=0.0015, grad=0.0000)], [Var(v=0.0510, grad=0.0000)], [Var(v=0.0074, grad=0.0000)], [Var(v=0.0071, grad=0.0000)], [Var(v=0.0094, grad=0.0000)], [Var(v=0.0532, grad=0.0000)], [Var(v=0.0081, grad=0.0000)], [Var(v=0.0048, grad=0.0000)], [Var(v=0.0153, grad=0.0000)], [Var(v=0.0021, grad=0.0000)], [Var(v=0.0077, grad=0.0000)], [Var(v=0.0033, grad=0.0000)], [Var(v=0.0028, grad=0.0000)], [Var(v=0.0086, grad=0.0000)], [Var(v=0.0158, grad=0.0000)], [Var(v=0.0164, grad=0.0000)], [Var(v=0.0193, grad=0.0000)], [Var(v=0.0050, grad=0.0000)], [Var(v=0.0091, grad=0.0000)], [Var(v=0.0301, grad=0.0000)], [Var(v=0.0130, grad=0.0000)], [Var(v=0.0157, grad=0.0000)], [Var(v=0.0139, grad=0.0000)], [Var(v=0.0023, grad=0.0000)], [Var(v=0.0481, grad=0.0000)], [Var(v=0.0093, grad=0.0000)], [Var(v=0.0315, grad=0.0000)], [Var(v=0.0090, grad=0.0000)], [Var(v=0.0138, grad=0.0000)], [Var(v=0.0153, grad=0.0000)], [Var(v=0.0449, grad=0.0000)]]\n"
     ]
    }
   ],
   "source": [
    "NN = [\n",
    "    DenseLayer(1, 5, lambda x: x.relu()),\n",
    "    DenseLayer(5, 1, lambda x: x.identity())\n",
    "]\n",
    "\n",
    "\n",
    "\n",
    "def forward(input, network):\n",
    "\n",
    "  def forward_single(x, network):\n",
    "    for layer in network:\n",
    "        x = layer.forward(x)\n",
    "    return x\n",
    "\n",
    "  output = [ forward_single(input[n], network) for n in range(len(input))]\n",
    "  return output\n",
    "\n",
    "print(forward(x_train, NN))\n"
   ]
  },
  {
   "cell_type": "markdown",
   "metadata": {
    "id": "oLrGJytZFtGm"
   },
   "source": [
    "## Exercise g) Print all network parameters\n",
    "\n",
    "Make a function that prints all the parameters of the network (weights and biases) with information about in which layer the appear. In the object oriented spirit you should introduce a method in the DenseLayer class to print the parameters of a layer. Hint: You can take inspiration from the corresponding method in Var. "
   ]
  },
  {
   "cell_type": "code",
   "execution_count": 16,
   "metadata": {},
   "outputs": [
    {
     "name": "stdout",
     "output_type": "stream",
     "text": [
      "For the first to the middle layer:\n",
      "Weights: [[Var(v=0.0185, grad=0.0000), Var(v=0.1060, grad=0.0000), Var(v=0.1628, grad=0.0000), Var(v=-0.0587, grad=0.0000), Var(v=-0.0077, grad=0.0000)]] Biases: [Var(v=0.0000, grad=0.0000), Var(v=0.0000, grad=0.0000), Var(v=0.0000, grad=0.0000), Var(v=0.0000, grad=0.0000), Var(v=0.0000, grad=0.0000)]\n",
      "---------------------------------\n",
      "For the middle to the last layer:\n",
      "Weights: [[Var(v=0.0332, grad=0.0000)], [Var(v=-0.0679, grad=0.0000)], [Var(v=0.2323, grad=0.0000)], [Var(v=0.1803, grad=0.0000)], [Var(v=0.0382, grad=0.0000)]] Biases: [Var(v=0.0000, grad=0.0000)]\n"
     ]
    }
   ],
   "source": [
    "print(\"For the first to the middle layer:\")\n",
    "print(repr(NN[0]))\n",
    "print(\"---------------------------------\")\n",
    "print(\"For the middle to the last layer:\")\n",
    "print(repr(NN[1]))"
   ]
  },
  {
   "cell_type": "markdown",
   "metadata": {
    "id": "-u4xk_ORFtGz"
   },
   "source": [
    "# Activation functions\n",
    "\n",
    "To have a full definition of the neural network, we must define an activation function for every layer. Several activation functions have been proposed and have different characteristics. In the Var class we have already defined the rectified linear init (relu). \n",
    " "
   ]
  },
  {
   "cell_type": "markdown",
   "metadata": {
    "id": "jpIZPBpNI0pO"
   },
   "source": [
    "## Exercise h) Add more activation functions\n",
    "\n",
    "Implement the following activation functions in the Var class:\n",
    "\n",
    "* Identity: $$\\mathrm{identity}(x) = x$$\n",
    "* Hyperbolic tangent: $$\\tanh(x)$$\n",
    "* Sigmoid (or logistic function): $$\\mathrm{sigmoid}(x) = \\frac{1}{1.0 + \\exp(-x ) }$$  Hint: $\\mathrm{sigmoid}'(x)= \\mathrm{sigmoid}(x)(1-\\mathrm{sigmoid}(x))$.  \n",
    "\n",
    "Hint: You can seek inspiration in the relu method in the Var class."
   ]
  },
  {
   "cell_type": "markdown",
   "metadata": {
    "id": "_79HOAXrFtHK"
   },
   "source": [
    "## Visualization\n",
    "\n",
    "Now that we have defined our activation functions we can visualize them to see what they look like:"
   ]
  },
  {
   "cell_type": "code",
   "execution_count": 17,
   "metadata": {
    "colab": {
     "base_uri": "https://localhost:8080/",
     "height": 284
    },
    "id": "1FcylHqLTl-Z",
    "outputId": "c23c865b-3894-434c-f38a-f3cff5f772e5"
   },
   "outputs": [
    {
     "data": {
      "text/plain": [
       "[<matplotlib.lines.Line2D at 0x175a5c0d1c0>]"
      ]
     },
     "execution_count": 17,
     "metadata": {},
     "output_type": "execute_result"
    },
    {
     "data": {
      "image/png": "[encoded data removed]",
      "text/plain": [
       "<Figure size 432x288 with 1 Axes>"
      ]
     },
     "metadata": {
      "needs_background": "light"
     },
     "output_type": "display_data"
    }
   ],
   "source": [
    "x = np.linspace(-6, 6, 100)\n",
    "\n",
    "# convert from Var to ndarray  \n",
    "def Var_to_nparray(x):\n",
    "  y = np.zeros((len(x),len(x[0])))\n",
    "  for i in range(len(x)):\n",
    "    for j in range(len(x[0])):\n",
    "      y[i,j] = x[i][j].v\n",
    "  return y\n",
    "\n",
    "# define 1-1 network with weight = 1 and relu activation \n",
    "NN = [ DenseLayer(1, 1, lambda x: x.relu(), initializer = ConstantInitializer(1.0)) ] \n",
    "y = Var_to_nparray(forward(nparray_to_Var(x), NN))\n",
    "\n",
    "#y = Var_to_nparray(relu(nparray_to_Var(x)))\n",
    "plt.plot(x,y)"
   ]
  },
  {
   "cell_type": "code",
   "execution_count": 18,
   "metadata": {
    "colab": {
     "base_uri": "https://localhost:8080/",
     "height": 341
    },
    "id": "oOL2UolJFtHL",
    "outputId": "9d51d191-ca43-44a6-d5f6-d41a2bd0a80b"
   },
   "outputs": [
    {
     "data": {
      "image/png": "[encoded data removed]",
      "text/plain": [
       "<Figure size 360x360 with 1 Axes>"
      ]
     },
     "metadata": {
      "needs_background": "light"
     },
     "output_type": "display_data"
    }
   ],
   "source": [
    "# Testing all activation layers\n",
    "\n",
    "x = np.linspace(-6, 6, 100)\n",
    "units = {\n",
    "    \"identity\": lambda x: x.identity(),\n",
    "    \"sigmoid\": lambda x: x.sigmoid(), \n",
    "    \"relu\": lambda x: x.relu(),\n",
    "    \"tanh\": lambda x: x.tanh()\n",
    "}\n",
    "\n",
    "plt.figure(figsize=(5, 5))\n",
    "[plt.plot(x, Var_to_nparray(forward(nparray_to_Var(x), [DenseLayer(1, 1, unit, initializer = ConstantInitializer(1.0))]) ), label=unit_name, lw=2) for unit_name, unit in units.items()] # unit(nparray_to_Var(x))), label=unit_name, lw=2) for unit_name, unit in units.items()]\n",
    "plt.legend(loc=2, fontsize=16)\n",
    "plt.title('Our activation functions', fontsize=20)\n",
    "plt.ylim([-2, 5])\n",
    "plt.xlim([-6, 6])\n",
    "plt.show()"
   ]
  },
  {
   "cell_type": "markdown",
   "metadata": {
    "id": "b-jdEl-7FtGs"
   },
   "source": [
    "# Advanced initialization schemes\n",
    "\n",
    "If we are not careful with initialization, the signals we propagate forward ($a^{(l)}$, $l=1,\\ldots,L$) and backward ($\\delta^l$, $l=L,L-1,\\ldots,1$) can blow up or shrink to zero. A statistical analysis of the variance of the signals for different activation functions can be found in these two papers: [Glorot initialization](http://proceedings.mlr.press/v9/glorot10a/glorot10a.pdf) and [He initialization](https://arxiv.org/pdf/1502.01852v1.pdf). \n",
    "\n",
    "The result of the analyses are proposals for how to make the initialization such that the variance of the signals (forward and backward) are kept approxmimatly constant when propagating from layer to layer. The exact expressions depend upon the non-linear activation function used. In Glorot initialization, the aim is to keep both the forward and backward variances constant whereas He only aims at keeping the variance in the forward pass constant.\n",
    "\n",
    "We define $n_{in}$ and $n_{out}$ as the number of input units and output units of a particular layer. \n",
    "\n",
    "The Glorot initialization has the form: \n",
    "\n",
    "$$w_{ij} \\sim N \\bigg( 0, \\, \\frac{2 \\alpha }{n_{in} + n_{out}} \\bigg) \\ . $$\n",
    "\n",
    "where $N(\\mu,\\sigma^2)$ is a Gaussian distribution with mean $\\mu$ and variance $\\sigma^2$ and $\\alpha$ is a parameter that depends upon the activation function used. For $\\tanh$, $\\alpha=1$ and for Rectified Linear Unit (ReLU) activations, $\\alpha=2$. (It is also possible to use a uniform distribution for initialization, see [this blog post](https://mmuratarat.github.io/2019-02-25/xavier-glorot-he-weight-init).) \n",
    "\n",
    "The He initialization is very similar\n",
    "\n",
    "$$w_{ij} \\sim N \\bigg( 0, \\, \\frac{\\alpha}{n_{in}} \\bigg) \\ . $$"
   ]
  },
  {
   "cell_type": "markdown",
   "metadata": {
    "id": "mqeyab9qFtGs"
   },
   "source": [
    "## Exercise i) Glorot and He initialization\n",
    " \n",
    "Using the Initializer class, implement functions that implement Glorot and He \n",
    "\n",
    "Explain briefly how you would test numerically that these initializations have the sought after property. Hint: See plots in Glorot paper.\n",
    "\n",
    "Comment: If you want to be more advanced then try to make a universal initializer taking both the activation function and type (Glorot or He) as argument."
   ]
  },
  {
   "cell_type": "code",
   "execution_count": 19,
   "metadata": {
    "id": "Qyk01CgaFtGt"
   },
   "outputs": [],
   "source": [
    "## Glorot\n",
    "def DenseLayer_Glorot_tanh(n_in: int, n_out: int):\n",
    "  std = (2/(n_in+n_out))**0.5\n",
    "  return DenseLayer(n_in, n_out, lambda x: x.tanh(), initializer = NormalInitializer(std))\n",
    "\n",
    "## He\n",
    "def DenseLayer_He_relu(n_in: int, n_out: int):\n",
    "  std = (2/n_in)**0.5\n",
    "  return DenseLayer(n_in, n_out, lambda x: x.tanh(), initializer = NormalInitializer(std))"
   ]
  },
  {
   "cell_type": "markdown",
   "metadata": {},
   "source": [
    "## Solution\n",
    "See Glorot paper"
   ]
  },
  {
   "cell_type": "markdown",
   "metadata": {
    "id": "-XyXBD37FtHk"
   },
   "source": [
    "## Exercise j) Forward pass unit test\n",
    "\n",
    "Write a bit of code to make a unit test that the forward pass works. This can be done by defining a simple network with for example all weights equal to one (using the ConstantInitializer method) and identity activation functions. \n",
    "\n",
    "Hints: Use the [assert](https://www.w3schools.com/python/ref_keyword_assert.asp), the nparray_to_Var and the Var_to_nparray commands. "
   ]
  },
  {
   "cell_type": "code",
   "execution_count": 20,
   "metadata": {
    "id": "k0miqRUAFtHl"
   },
   "outputs": [],
   "source": [
    "#Defining simple network:\n",
    "x_UT = np.linspace(0, 10, 100)\n",
    "\n",
    "NN = [ DenseLayer(1, 1, lambda x_UT: x_UT.identity(), initializer = ConstantInitializer(1.0)) ] \n",
    "y_UT = forward(nparray_to_Var(x_UT), NN)\n",
    "\n",
    "#Input should be equal to output, so we check that with assert:\n",
    "\n",
    "for i in range(len(x_UT)):\n",
    "    assert x_UT[i] == Var_to_nparray(y_UT)[i]\n"
   ]
  },
  {
   "cell_type": "markdown",
   "metadata": {
    "id": "faCxhfFnFtHp"
   },
   "source": [
    "# Loss functions\n",
    "\n",
    "We are only missing a loss function to we need to define a loss function and its derivative with respect to the output of the neural network $y$"
   ]
  },
  {
   "cell_type": "code",
   "execution_count": 21,
   "metadata": {
    "id": "I2eDYKvAFtHq"
   },
   "outputs": [],
   "source": [
    "def squared_loss(t, y):\n",
    "  \n",
    "  # add check that sizes agree\n",
    "  \n",
    "  def squared_loss_single(t, y):\n",
    "    Loss = Var(0.0)\n",
    "    for i in range(len(t)): # sum over outputs\n",
    "      Loss += (t[i]-y[i]) ** 2\n",
    "    return Loss\n",
    "\n",
    "  Loss = Var(0.0)\n",
    "  for n in range(len(t)): # sum over training data\n",
    "    Loss += squared_loss_single(t[n],y[n])\n",
    "  return Loss"
   ]
  },
  {
   "cell_type": "markdown",
   "metadata": {
    "id": "SrwSJ2UWFtHu"
   },
   "source": [
    "## Exercise j) Implement cross entropy loss\n",
    "\n",
    "Insert code below to implement cross-entropy loss for general dimensionality of $t$. Use a logits formulation:\n",
    "$$\n",
    "\\rm{Loss} = - \\sum_i t_i \\, log \\, p_i \n",
    "$$\n",
    "with $p$ given by the the softmax function in terms of the logits $h$:\n",
    "$$\n",
    "p_i = \\frac{\\exp(h_i)}{\\sum_{i'} \\exp(h_{i'} } .\n",
    "$$\n",
    "Inserting $p$ in the expression for the loss gives\n",
    "$$\n",
    "\\rm{Loss} = - \\sum_i t_i h_i + \\rm{LogSumExp}(h) \\ ,\n",
    "$$\n",
    "where \n",
    "$$\n",
    "\\rm{LogSumExp}(h) = \\log \\sum_i \\exp h_i \\ .\n",
    "$$\n",
    "This is true for $t$ being a one-hot vector. In practice you want to implement a [numerically stable](https://leimao.github.io/blog/LogSumExp/) version of LogSumExp. But we will not bother about that here.\n",
    "\n",
    "Help: You can add these methods in the Var class:\n",
    "\n",
    "    def exp(self):\n",
    "        return Var(exp(self.v), lambda: [(self, exp(self.v))])\n",
    "    \n",
    "    def log(self):\n",
    "        return Var(log(self.v), lambda: [(self, self.v ** -1)])"
   ]
  },
  {
   "cell_type": "code",
   "execution_count": 22,
   "metadata": {
    "id": "6nMuxyfzFtHv"
   },
   "outputs": [],
   "source": [
    "def cross_entropy_loss(t, y):\n",
    "     \n",
    "    Loss = Var(0.0)\n",
    "    #      return t * np.log(y)\n",
    "    return Loss"
   ]
  },
  {
   "cell_type": "markdown",
   "metadata": {
    "id": "8fAF5ew4FtHy"
   },
   "source": [
    "# Backward pass\n",
    "\n",
    "Now the magic happens! We get the calculation of the gradients for free. Just do:"
   ]
  },
  {
   "cell_type": "code",
   "execution_count": 23,
   "metadata": {
    "id": "iHyfPPI9Qqwu"
   },
   "outputs": [],
   "source": [
    "NN = [\n",
    "    DenseLayer(1, 5, lambda x: x.relu()),\n",
    "    DenseLayer(5, 1, lambda x: x.identity())\n",
    "]\n",
    "\n",
    "output = forward(x_train, NN)\n",
    "\n",
    "Loss = squared_loss(y_train,output)\n",
    "Loss.backward()"
   ]
  },
  {
   "cell_type": "markdown",
   "metadata": {
    "id": "49biIAYKQ1oG"
   },
   "source": [
    "and the gradients will be calculated:"
   ]
  },
  {
   "cell_type": "code",
   "execution_count": 24,
   "metadata": {
    "colab": {
     "base_uri": "https://localhost:8080/"
    },
    "id": "_rGt1bq_Q7uk",
    "outputId": "8d283577-9bd1-496b-f4a8-764a9507a4bf"
   },
   "outputs": [
    {
     "name": "stdout",
     "output_type": "stream",
     "text": [
      "Layer 0 \n",
      " Weights: [[Var(v=0.1060, grad=1.5994), Var(v=-0.0517, grad=-10.3415), Var(v=-0.0525, grad=-10.1155), Var(v=-0.0370, grad=-18.9953), Var(v=0.0018, grad=-10.5972)]] Biases: [Var(v=0.0000, grad=1.3738), Var(v=0.0000, grad=9.4030), Var(v=0.0000, grad=9.1974), Var(v=0.0000, grad=17.2714), Var(v=0.0000, grad=-9.1027)]\n",
      "Layer 1 \n",
      " Weights: [[Var(v=-0.0157, grad=-10.7876)], [Var(v=0.1057, grad=5.0572)], [Var(v=0.1034, grad=5.1337)], [Var(v=0.1942, grad=3.6240)], [Var(v=0.1041, grad=-0.1836)]] Biases: [Var(v=0.0000, grad=1.5381)]\n"
     ]
    },
    {
     "data": {
      "text/plain": [
       "[None, None]"
      ]
     },
     "execution_count": 24,
     "metadata": {},
     "output_type": "execute_result"
    }
   ],
   "source": [
    "[print('Layer', i, '\\n', NN[i]) for i in range(len(NN))] "
   ]
  },
  {
   "cell_type": "markdown",
   "metadata": {
    "id": "D7d7qK0uFtH9"
   },
   "source": [
    "# Backward pass unit test\n",
    "\n",
    "Above we used finite differences to test that Nanograd is actually doing what it is supposed to do. We can in principle try the same for the neural network. But we will trust that the test above is enough."
   ]
  },
  {
   "cell_type": "markdown",
   "metadata": {
    "id": "WgBi8GOSFtIN"
   },
   "source": [
    "# Training and validation\n",
    "\n",
    "We are ready to train some neural networks!\n",
    "\n",
    "We initialize again:"
   ]
  },
  {
   "cell_type": "code",
   "execution_count": 25,
   "metadata": {
    "id": "01ePmzBzRtdh"
   },
   "outputs": [],
   "source": [
    "NN = [\n",
    "    DenseLayer(1, 5, lambda x: x.relu()),\n",
    "    DenseLayer(5, 1, lambda x: x.identity())\n",
    "]\n",
    "\n",
    "output = forward(x_train, NN)\n",
    "\n",
    "Loss = squared_loss(y_train,output)\n",
    "Loss.backward()"
   ]
  },
  {
   "cell_type": "markdown",
   "metadata": {
    "id": "10iRPiQ1ISHw"
   },
   "source": [
    "and make an update:\n",
    "\n",
    "We introduce a help function parameters to have a handle in all parameters in the network."
   ]
  },
  {
   "cell_type": "code",
   "execution_count": 26,
   "metadata": {
    "colab": {
     "base_uri": "https://localhost:8080/"
    },
    "id": "dhAI7eyeznia",
    "outputId": "8584bbad-00aa-4130-9961-44e9ae7fb4ed"
   },
   "outputs": [
    {
     "name": "stdout",
     "output_type": "stream",
     "text": [
      "Network before update:\n",
      "Layer 0 \n",
      " Weights: [[Var(v=-0.0060, grad=-11.9977), Var(v=-0.1166, grad=10.4352), Var(v=-0.1008, grad=0.0824), Var(v=-0.1208, grad=-0.1051), Var(v=-0.1402, grad=15.8675)]] Biases: [Var(v=0.0000, grad=10.8977), Var(v=0.0000, grad=-9.4785), Var(v=0.0000, grad=-0.0748), Var(v=0.0000, grad=0.0955), Var(v=0.0000, grad=-14.4128)]\n",
      "Layer 1 \n",
      " Weights: [[Var(v=0.1299, grad=0.5535)], [Var(v=-0.1130, grad=10.7724)], [Var(v=-0.0009, grad=9.3111)], [Var(v=0.0011, grad=11.1598)], [Var(v=-0.1718, grad=12.9535)]] Biases: [Var(v=0.0000, grad=-3.3754)]\n",
      "\n",
      "Network after update:\n",
      "Layer 0 \n",
      " Weights: [[Var(v=0.1140, grad=-11.9977), Var(v=-0.2210, grad=10.4352), Var(v=-0.1016, grad=0.0824), Var(v=-0.1198, grad=-0.1051), Var(v=-0.2989, grad=15.8675)]] Biases: [Var(v=-0.1090, grad=10.8977), Var(v=0.0948, grad=-9.4785), Var(v=0.0007, grad=-0.0748), Var(v=-0.0010, grad=0.0955), Var(v=0.1441, grad=-14.4128)]\n",
      "Layer 1 \n",
      " Weights: [[Var(v=0.1244, grad=0.5535)], [Var(v=-0.2207, grad=10.7724)], [Var(v=-0.0940, grad=9.3111)], [Var(v=-0.1105, grad=11.1598)], [Var(v=-0.3013, grad=12.9535)]] Biases: [Var(v=0.0338, grad=-3.3754)]\n",
      "\n",
      "Network after zeroing gradients:\n",
      "Layer 0 \n",
      " Weights: [[Var(v=0.1140, grad=0.0000), Var(v=-0.2210, grad=0.0000), Var(v=-0.1016, grad=0.0000), Var(v=-0.1198, grad=0.0000), Var(v=-0.2989, grad=0.0000)]] Biases: [Var(v=-0.1090, grad=0.0000), Var(v=0.0948, grad=0.0000), Var(v=0.0007, grad=0.0000), Var(v=-0.0010, grad=0.0000), Var(v=0.1441, grad=0.0000)]\n",
      "Layer 1 \n",
      " Weights: [[Var(v=0.1244, grad=0.0000)], [Var(v=-0.2207, grad=0.0000)], [Var(v=-0.0940, grad=0.0000)], [Var(v=-0.1105, grad=0.0000)], [Var(v=-0.3013, grad=0.0000)]] Biases: [Var(v=0.0338, grad=0.0000)]\n"
     ]
    },
    {
     "data": {
      "text/plain": [
       "[None, None]"
      ]
     },
     "execution_count": 26,
     "metadata": {},
     "output_type": "execute_result"
    }
   ],
   "source": [
    "print('Network before update:')\n",
    "[print('Layer', i, '\\n', NN[i]) for i in range(len(NN))] \n",
    "\n",
    "def parameters(network):\n",
    "  params = []\n",
    "  for layer in range(len(network)):\n",
    "    params += network[layer].parameters()\n",
    "  return params\n",
    "\n",
    "def update_parameters(params, learning_rate=0.01):\n",
    "  for p in params:\n",
    "    p.v -= learning_rate*p.grad\n",
    "\n",
    "def zero_gradients(params):\n",
    "  for p in params:\n",
    "    p.grad = 0.0\n",
    "\n",
    "update_parameters(parameters(NN))\n",
    "\n",
    "print('\\nNetwork after update:')\n",
    "[print('Layer', i, '\\n', NN[i]) for i in range(len(NN))] \n",
    "\n",
    "zero_gradients(parameters(NN))\n",
    "\n",
    "print('\\nNetwork after zeroing gradients:')\n",
    "[print('Layer', i, '\\n', NN[i]) for i in range(len(NN))] "
   ]
  },
  {
   "cell_type": "code",
   "execution_count": 27,
   "metadata": {
    "id": "woWYpdw6FtIO"
   },
   "outputs": [],
   "source": [
    "# Initialize an arbitrary neural network\n",
    "NN = [\n",
    "    DenseLayer(1, 8, lambda x: x.relu()),\n",
    "    DenseLayer(8, 1, lambda x: x.identity())\n",
    "]\n",
    "\n",
    "# Recommended hyper-parameters for 3-D: \n",
    "#NN = [\n",
    "#    DenseLayer(3, 16, lambda x: x.relu()),\n",
    "#    DenseLayer(16, 1, lambda x: x.identity())\n",
    "#]\n",
    "\n",
    "\n",
    "### Notice that, when we switch from tanh to relu activation, we decrease the learning rate. This is due the stability of the gradients \n",
    "## of the activation functions."
   ]
  },
  {
   "cell_type": "code",
   "execution_count": 28,
   "metadata": {
    "id": "mdqaqYBVFtIR"
   },
   "outputs": [],
   "source": [
    "# Initialize training hyperparameters\n",
    "EPOCHS = 200\n",
    "#EPOCHS = 50\n",
    "LEARN_R = 2e-3 \n",
    "#LEARN_R = 2e-9"
   ]
  },
  {
   "cell_type": "code",
   "execution_count": 29,
   "metadata": {
    "colab": {
     "base_uri": "https://localhost:8080/"
    },
    "id": "5kfg76GMFtIW",
    "outputId": "e30cf68a-31f2-42b4-cc5e-860c297c0f04",
    "scrolled": true
   },
   "outputs": [
    {
     "name": "stdout",
     "output_type": "stream",
     "text": [
      "   0 ( 0.00%) Train loss: 109.285 \t Validation loss: 107.157\n",
      "  10 ( 0.50%) Train loss: 34.315 \t Validation loss: 25.018\n",
      "  20 ( 1.00%) Train loss: 13.839 \t Validation loss: 10.609\n",
      "  30 ( 1.50%) Train loss: 13.292 \t Validation loss: 10.136\n",
      "  40 ( 2.00%) Train loss: 12.878 \t Validation loss: 9.702\n",
      "  50 ( 2.50%) Train loss: 12.672 \t Validation loss: 9.455\n",
      "  60 ( 3.00%) Train loss: 12.497 \t Validation loss: 9.224\n",
      "  70 ( 3.50%) Train loss: 12.355 \t Validation loss: 9.053\n",
      "  80 ( 4.00%) Train loss: 12.223 \t Validation loss: 8.928\n",
      "  90 ( 4.50%) Train loss: 12.125 \t Validation loss: 8.863\n",
      " 100 ( 5.00%) Train loss: 12.027 \t Validation loss: 8.877\n",
      " 110 ( 5.50%) Train loss: 11.950 \t Validation loss: 8.888\n",
      " 120 ( 6.00%) Train loss: 11.923 \t Validation loss: 8.903\n",
      " 130 ( 6.50%) Train loss: 11.907 \t Validation loss: 8.918\n",
      " 140 ( 7.00%) Train loss: 11.900 \t Validation loss: 8.934\n",
      " 150 ( 7.50%) Train loss: 11.896 \t Validation loss: 8.946\n",
      " 160 ( 8.00%) Train loss: 11.894 \t Validation loss: 8.956\n",
      " 170 ( 8.50%) Train loss: 11.893 \t Validation loss: 8.963\n",
      " 180 ( 9.00%) Train loss: 11.890 \t Validation loss: 8.966\n",
      " 190 ( 9.50%) Train loss: 11.889 \t Validation loss: 8.969\n",
      " 200 (10.00%) Train loss: 11.888 \t Validation loss: 8.969\n",
      " 210 (10.50%) Train loss: 11.888 \t Validation loss: 8.969\n",
      " 220 (11.00%) Train loss: 11.888 \t Validation loss: 8.969\n",
      " 230 (11.50%) Train loss: 11.888 \t Validation loss: 8.969\n",
      " 240 (12.00%) Train loss: 11.888 \t Validation loss: 8.969\n",
      " 250 (12.50%) Train loss: 11.888 \t Validation loss: 8.969\n",
      " 260 (13.00%) Train loss: 11.888 \t Validation loss: 8.969\n",
      " 270 (13.50%) Train loss: 11.887 \t Validation loss: 8.970\n",
      " 280 (14.00%) Train loss: 11.887 \t Validation loss: 8.970\n",
      " 290 (14.50%) Train loss: 11.887 \t Validation loss: 8.970\n",
      " 300 (15.00%) Train loss: 11.887 \t Validation loss: 8.970\n",
      " 310 (15.50%) Train loss: 11.887 \t Validation loss: 8.970\n",
      " 320 (16.00%) Train loss: 11.887 \t Validation loss: 8.970\n",
      " 330 (16.50%) Train loss: 11.887 \t Validation loss: 8.970\n",
      " 340 (17.00%) Train loss: 11.887 \t Validation loss: 8.970\n",
      " 350 (17.50%) Train loss: 11.887 \t Validation loss: 8.971\n",
      " 360 (18.00%) Train loss: 11.887 \t Validation loss: 8.971\n",
      " 370 (18.50%) Train loss: 11.887 \t Validation loss: 8.970\n",
      " 380 (19.00%) Train loss: 11.887 \t Validation loss: 8.971\n",
      " 390 (19.50%) Train loss: 11.887 \t Validation loss: 8.970\n",
      " 400 (20.00%) Train loss: 11.887 \t Validation loss: 8.970\n",
      " 410 (20.50%) Train loss: 11.887 \t Validation loss: 8.970\n",
      " 420 (21.00%) Train loss: 11.887 \t Validation loss: 8.970\n",
      " 430 (21.50%) Train loss: 11.887 \t Validation loss: 8.969\n",
      " 440 (22.00%) Train loss: 11.887 \t Validation loss: 8.970\n",
      " 450 (22.50%) Train loss: 11.887 \t Validation loss: 8.969\n",
      " 460 (23.00%) Train loss: 11.887 \t Validation loss: 8.969\n",
      " 470 (23.50%) Train loss: 11.887 \t Validation loss: 8.969\n",
      " 480 (24.00%) Train loss: 11.887 \t Validation loss: 8.969\n",
      " 490 (24.50%) Train loss: 11.887 \t Validation loss: 8.969\n",
      " 500 (25.00%) Train loss: 11.887 \t Validation loss: 8.969\n",
      " 510 (25.50%) Train loss: 11.886 \t Validation loss: 8.969\n",
      " 520 (26.00%) Train loss: 11.886 \t Validation loss: 8.969\n",
      " 530 (26.50%) Train loss: 11.886 \t Validation loss: 8.969\n",
      " 540 (27.00%) Train loss: 11.886 \t Validation loss: 8.969\n",
      " 550 (27.50%) Train loss: 11.886 \t Validation loss: 8.969\n",
      " 560 (28.00%) Train loss: 11.886 \t Validation loss: 8.969\n",
      " 570 (28.50%) Train loss: 11.886 \t Validation loss: 8.969\n",
      " 580 (29.00%) Train loss: 11.886 \t Validation loss: 8.969\n",
      " 590 (29.50%) Train loss: 11.886 \t Validation loss: 8.969\n",
      " 600 (30.00%) Train loss: 11.886 \t Validation loss: 8.969\n",
      " 610 (30.50%) Train loss: 11.886 \t Validation loss: 8.969\n",
      " 620 (31.00%) Train loss: 11.886 \t Validation loss: 8.969\n",
      " 630 (31.50%) Train loss: 11.886 \t Validation loss: 8.969\n",
      " 640 (32.00%) Train loss: 11.886 \t Validation loss: 8.969\n",
      " 650 (32.50%) Train loss: 11.886 \t Validation loss: 8.969\n",
      " 660 (33.00%) Train loss: 11.886 \t Validation loss: 8.969\n",
      " 670 (33.50%) Train loss: 11.886 \t Validation loss: 8.969\n",
      " 680 (34.00%) Train loss: 11.886 \t Validation loss: 8.969\n",
      " 690 (34.50%) Train loss: 11.886 \t Validation loss: 8.969\n",
      " 700 (35.00%) Train loss: 11.886 \t Validation loss: 8.969\n",
      " 710 (35.50%) Train loss: 11.886 \t Validation loss: 8.969\n",
      " 720 (36.00%) Train loss: 11.886 \t Validation loss: 8.969\n",
      " 730 (36.50%) Train loss: 11.886 \t Validation loss: 8.969\n",
      " 740 (37.00%) Train loss: 11.886 \t Validation loss: 8.969\n",
      " 750 (37.50%) Train loss: 11.886 \t Validation loss: 8.969\n",
      " 760 (38.00%) Train loss: 11.886 \t Validation loss: 8.969\n",
      " 770 (38.50%) Train loss: 11.886 \t Validation loss: 8.969\n",
      " 780 (39.00%) Train loss: 11.886 \t Validation loss: 8.969\n",
      " 790 (39.50%) Train loss: 11.886 \t Validation loss: 8.969\n",
      " 800 (40.00%) Train loss: 11.886 \t Validation loss: 8.969\n",
      " 810 (40.50%) Train loss: 11.886 \t Validation loss: 8.970\n",
      " 820 (41.00%) Train loss: 11.886 \t Validation loss: 8.969\n",
      " 830 (41.50%) Train loss: 11.886 \t Validation loss: 8.969\n",
      " 840 (42.00%) Train loss: 11.886 \t Validation loss: 8.969\n",
      " 850 (42.50%) Train loss: 11.886 \t Validation loss: 8.969\n",
      " 860 (43.00%) Train loss: 11.886 \t Validation loss: 8.969\n",
      " 870 (43.50%) Train loss: 11.886 \t Validation loss: 8.969\n",
      " 880 (44.00%) Train loss: 11.886 \t Validation loss: 8.969\n",
      " 890 (44.50%) Train loss: 11.886 \t Validation loss: 8.969\n",
      " 900 (45.00%) Train loss: 11.886 \t Validation loss: 8.969\n",
      " 910 (45.50%) Train loss: 11.886 \t Validation loss: 8.969\n",
      " 920 (46.00%) Train loss: 11.886 \t Validation loss: 8.969\n",
      " 930 (46.50%) Train loss: 11.886 \t Validation loss: 8.969\n",
      " 940 (47.00%) Train loss: 11.886 \t Validation loss: 8.969\n",
      " 950 (47.50%) Train loss: 11.886 \t Validation loss: 8.969\n",
      " 960 (48.00%) Train loss: 11.886 \t Validation loss: 8.969\n",
      " 970 (48.50%) Train loss: 11.886 \t Validation loss: 8.969\n",
      " 980 (49.00%) Train loss: 11.886 \t Validation loss: 8.969\n",
      " 990 (49.50%) Train loss: 11.886 \t Validation loss: 8.969\n",
      "1000 (50.00%) Train loss: 11.886 \t Validation loss: 8.969\n",
      "1010 (50.50%) Train loss: 11.886 \t Validation loss: 8.969\n",
      "1020 (51.00%) Train loss: 11.886 \t Validation loss: 8.969\n",
      "1030 (51.50%) Train loss: 11.885 \t Validation loss: 8.969\n",
      "1040 (52.00%) Train loss: 11.885 \t Validation loss: 8.969\n",
      "1050 (52.50%) Train loss: 11.885 \t Validation loss: 8.969\n",
      "1060 (53.00%) Train loss: 11.885 \t Validation loss: 8.969\n",
      "1070 (53.50%) Train loss: 11.885 \t Validation loss: 8.969\n",
      "1080 (54.00%) Train loss: 11.885 \t Validation loss: 8.969\n",
      "1090 (54.50%) Train loss: 11.885 \t Validation loss: 8.969\n",
      "1100 (55.00%) Train loss: 11.885 \t Validation loss: 8.969\n",
      "1110 (55.50%) Train loss: 11.885 \t Validation loss: 8.969\n",
      "1120 (56.00%) Train loss: 11.885 \t Validation loss: 8.969\n",
      "1130 (56.50%) Train loss: 11.885 \t Validation loss: 8.969\n",
      "1140 (57.00%) Train loss: 11.885 \t Validation loss: 8.969\n",
      "1150 (57.50%) Train loss: 11.885 \t Validation loss: 8.969\n",
      "1160 (58.00%) Train loss: 11.885 \t Validation loss: 8.969\n",
      "1170 (58.50%) Train loss: 11.885 \t Validation loss: 8.969\n",
      "1180 (59.00%) Train loss: 11.885 \t Validation loss: 8.969\n",
      "1190 (59.50%) Train loss: 11.885 \t Validation loss: 8.969\n",
      "1200 (60.00%) Train loss: 11.885 \t Validation loss: 8.969\n",
      "1210 (60.50%) Train loss: 11.885 \t Validation loss: 8.969\n",
      "1220 (61.00%) Train loss: 11.885 \t Validation loss: 8.970\n",
      "1230 (61.50%) Train loss: 11.885 \t Validation loss: 8.969\n",
      "1240 (62.00%) Train loss: 11.885 \t Validation loss: 8.969\n",
      "1250 (62.50%) Train loss: 11.885 \t Validation loss: 8.970\n",
      "1260 (63.00%) Train loss: 11.885 \t Validation loss: 8.969\n",
      "1270 (63.50%) Train loss: 11.885 \t Validation loss: 8.969\n",
      "1280 (64.00%) Train loss: 11.885 \t Validation loss: 8.969\n",
      "1290 (64.50%) Train loss: 11.885 \t Validation loss: 8.969\n",
      "1300 (65.00%) Train loss: 11.885 \t Validation loss: 8.969\n",
      "1310 (65.50%) Train loss: 11.885 \t Validation loss: 8.969\n",
      "1320 (66.00%) Train loss: 11.885 \t Validation loss: 8.969\n",
      "1330 (66.50%) Train loss: 11.885 \t Validation loss: 8.969\n",
      "1340 (67.00%) Train loss: 11.885 \t Validation loss: 8.969\n",
      "1350 (67.50%) Train loss: 11.885 \t Validation loss: 8.969\n",
      "1360 (68.00%) Train loss: 11.885 \t Validation loss: 8.969\n",
      "1370 (68.50%) Train loss: 11.885 \t Validation loss: 8.969\n",
      "1380 (69.00%) Train loss: 11.885 \t Validation loss: 8.969\n",
      "1390 (69.50%) Train loss: 11.885 \t Validation loss: 8.969\n",
      "1400 (70.00%) Train loss: 11.885 \t Validation loss: 8.969\n",
      "1410 (70.50%) Train loss: 11.885 \t Validation loss: 8.969\n"
     ]
    },
    {
     "name": "stdout",
     "output_type": "stream",
     "text": [
      "1420 (71.00%) Train loss: 11.885 \t Validation loss: 8.969\n",
      "1430 (71.50%) Train loss: 11.885 \t Validation loss: 8.969\n",
      "1440 (72.00%) Train loss: 11.885 \t Validation loss: 8.969\n",
      "1450 (72.50%) Train loss: 11.885 \t Validation loss: 8.969\n",
      "1460 (73.00%) Train loss: 11.885 \t Validation loss: 8.969\n",
      "1470 (73.50%) Train loss: 11.885 \t Validation loss: 8.969\n",
      "1480 (74.00%) Train loss: 11.885 \t Validation loss: 8.969\n",
      "1490 (74.50%) Train loss: 11.885 \t Validation loss: 8.969\n",
      "1500 (75.00%) Train loss: 11.884 \t Validation loss: 8.969\n",
      "1510 (75.50%) Train loss: 11.884 \t Validation loss: 8.969\n",
      "1520 (76.00%) Train loss: 11.884 \t Validation loss: 8.969\n",
      "1530 (76.50%) Train loss: 11.884 \t Validation loss: 8.969\n",
      "1540 (77.00%) Train loss: 11.884 \t Validation loss: 8.969\n",
      "1550 (77.50%) Train loss: 11.884 \t Validation loss: 8.969\n",
      "1560 (78.00%) Train loss: 11.884 \t Validation loss: 8.969\n",
      "1570 (78.50%) Train loss: 11.884 \t Validation loss: 8.969\n",
      "1580 (79.00%) Train loss: 11.884 \t Validation loss: 8.969\n",
      "1590 (79.50%) Train loss: 11.884 \t Validation loss: 8.969\n",
      "1600 (80.00%) Train loss: 11.884 \t Validation loss: 8.969\n",
      "1610 (80.50%) Train loss: 11.884 \t Validation loss: 8.969\n",
      "1620 (81.00%) Train loss: 11.884 \t Validation loss: 8.969\n",
      "1630 (81.50%) Train loss: 11.884 \t Validation loss: 8.969\n",
      "1640 (82.00%) Train loss: 11.884 \t Validation loss: 8.969\n",
      "1650 (82.50%) Train loss: 11.884 \t Validation loss: 8.969\n",
      "1660 (83.00%) Train loss: 11.884 \t Validation loss: 8.969\n",
      "1670 (83.50%) Train loss: 11.884 \t Validation loss: 8.969\n",
      "1680 (84.00%) Train loss: 11.884 \t Validation loss: 8.969\n",
      "1690 (84.50%) Train loss: 11.884 \t Validation loss: 8.969\n",
      "1700 (85.00%) Train loss: 11.884 \t Validation loss: 8.969\n",
      "1710 (85.50%) Train loss: 11.884 \t Validation loss: 8.969\n",
      "1720 (86.00%) Train loss: 11.884 \t Validation loss: 8.969\n",
      "1730 (86.50%) Train loss: 11.884 \t Validation loss: 8.969\n",
      "1740 (87.00%) Train loss: 11.884 \t Validation loss: 8.969\n",
      "1750 (87.50%) Train loss: 11.884 \t Validation loss: 8.969\n",
      "1760 (88.00%) Train loss: 11.884 \t Validation loss: 8.969\n",
      "1770 (88.50%) Train loss: 11.884 \t Validation loss: 8.969\n",
      "1780 (89.00%) Train loss: 11.884 \t Validation loss: 8.969\n",
      "1790 (89.50%) Train loss: 11.884 \t Validation loss: 8.969\n",
      "1800 (90.00%) Train loss: 11.884 \t Validation loss: 8.969\n",
      "1810 (90.50%) Train loss: 11.884 \t Validation loss: 8.969\n",
      "1820 (91.00%) Train loss: 11.884 \t Validation loss: 8.969\n",
      "1830 (91.50%) Train loss: 11.884 \t Validation loss: 8.969\n",
      "1840 (92.00%) Train loss: 11.884 \t Validation loss: 8.969\n",
      "1850 (92.50%) Train loss: 11.884 \t Validation loss: 8.969\n",
      "1860 (93.00%) Train loss: 11.884 \t Validation loss: 8.969\n",
      "1870 (93.50%) Train loss: 11.884 \t Validation loss: 8.970\n",
      "1880 (94.00%) Train loss: 11.884 \t Validation loss: 8.969\n",
      "1890 (94.50%) Train loss: 11.884 \t Validation loss: 8.969\n",
      "1900 (95.00%) Train loss: 11.884 \t Validation loss: 8.969\n",
      "1910 (95.50%) Train loss: 11.884 \t Validation loss: 8.969\n",
      "1920 (96.00%) Train loss: 11.884 \t Validation loss: 8.969\n",
      "1930 (96.50%) Train loss: 11.884 \t Validation loss: 8.969\n",
      "1940 (97.00%) Train loss: 11.884 \t Validation loss: 8.969\n",
      "1950 (97.50%) Train loss: 11.883 \t Validation loss: 8.970\n",
      "1960 (98.00%) Train loss: 11.883 \t Validation loss: 8.969\n",
      "1970 (98.50%) Train loss: 11.883 \t Validation loss: 8.969\n",
      "1980 (99.00%) Train loss: 11.883 \t Validation loss: 8.969\n",
      "1990 (99.50%) Train loss: 11.883 \t Validation loss: 8.969\n"
     ]
    }
   ],
   "source": [
    "train_loss = []\n",
    "val_loss = []\n",
    "\n",
    "for e in range(EPOCHS):\n",
    "     \n",
    "    # Forward pass and loss computation\n",
    "    Loss = squared_loss(y_train, forward(x_train, NN))\n",
    "\n",
    "    # Backward pass\n",
    "    Loss.backward()\n",
    "    \n",
    "    # gradient descent update\n",
    "    update_parameters(parameters(NN), LEARN_R)\n",
    "    zero_gradients(parameters(NN))\n",
    "    \n",
    "    # Training loss\n",
    "    train_loss.append(Loss.v)\n",
    "    \n",
    "    # Validation\n",
    "    Loss_validation = squared_loss(y_validation, forward(x_validation, NN))\n",
    "    val_loss.append(Loss_validation.v)\n",
    "    \n",
    "    if e%10==0:\n",
    "        print(\"{:4d}\".format(e),\n",
    "              \"({:5.2f}%)\".format(e/EPOCHS*100), \n",
    "              \"Train loss: {:4.3f} \\t Validation loss: {:4.3f}\".format(train_loss[-1], val_loss[-1]))\n",
    "        \n"
   ]
  },
  {
   "cell_type": "code",
   "execution_count": 30,
   "metadata": {
    "colab": {
     "base_uri": "https://localhost:8080/",
     "height": 265
    },
    "id": "VetyRWFwFtIY",
    "outputId": "344e490d-6d7d-455a-fa6f-88dd11eb957e"
   },
   "outputs": [
    {
     "data": {
      "image/png": "[encoded data removed]",
      "text/plain": [
       "<Figure size 432x288 with 1 Axes>"
      ]
     },
     "metadata": {
      "needs_background": "light"
     },
     "output_type": "display_data"
    }
   ],
   "source": [
    "plt.plot(range(len(train_loss)), train_loss);\n",
    "plt.plot(range(len(val_loss)), val_loss);"
   ]
  },
  {
   "cell_type": "markdown",
   "metadata": {
    "id": "8OgmIrM9FtIb"
   },
   "source": [
    "# Testing\n",
    "\n",
    "We have kept the calculation of the test error separate in order to emphasize that you should not use the test set in optimization."
   ]
  },
  {
   "cell_type": "code",
   "execution_count": 31,
   "metadata": {
    "id": "HmNi7S-vFtIc"
   },
   "outputs": [],
   "source": [
    "output_test = forward(x_test, NN)"
   ]
  },
  {
   "cell_type": "code",
   "execution_count": 32,
   "metadata": {
    "colab": {
     "base_uri": "https://localhost:8080/",
     "height": 316
    },
    "id": "7mmJOTSEFtIf",
    "outputId": "e3264095-cefe-4aee-893d-bf152438e332"
   },
   "outputs": [
    {
     "name": "stdout",
     "output_type": "stream",
     "text": [
      "Test loss:  9.759\n"
     ]
    },
    {
     "data": {
      "image/png": "[encoded data removed]",
      "text/plain": [
       "<Figure size 432x288 with 1 Axes>"
      ]
     },
     "metadata": {
      "needs_background": "light"
     },
     "output_type": "display_data"
    }
   ],
   "source": [
    "y_test_np = Var_to_nparray(y_test)\n",
    "plt.scatter(y_test_np, Var_to_nparray(output_test));\n",
    "plt.plot([np.min(y_test_np), np.max(y_test_np)], [np.min(y_test_np), np.max(y_test_np)], color='k');\n",
    "plt.xlabel(\"y\");\n",
    "plt.ylabel(\"$\\hat{y}$\");\n",
    "plt.title(\"Model prediction vs real in the test set, the close to the line the better\")\n",
    "plt.grid(True);\n",
    "plt.axis('equal');\n",
    "plt.tight_layout();\n",
    "\n",
    "Loss_test = squared_loss(y_test, forward(x_test, NN))\n",
    "\n",
    "print(\"Test loss:  {:4.3f}\".format(Loss_test.v))"
   ]
  },
  {
   "cell_type": "code",
   "execution_count": 33,
   "metadata": {
    "colab": {
     "base_uri": "https://localhost:8080/",
     "height": 279
    },
    "id": "ODi0WlmQFtIh",
    "outputId": "d1ab874f-0717-4987-87bf-1f0c7c8e7148"
   },
   "outputs": [
    {
     "data": {
      "image/png": "[encoded data removed]",
      "text/plain": [
       "<Figure size 432x288 with 1 Axes>"
      ]
     },
     "metadata": {
      "needs_background": "light"
     },
     "output_type": "display_data"
    }
   ],
   "source": [
    "x_test_np = Var_to_nparray(x_test)\n",
    "x_train_np = Var_to_nparray(x_train)\n",
    "y_train_np = Var_to_nparray(y_train)\n",
    "if D1:\n",
    "    plt.scatter(x_train_np, y_train_np, label=\"train data\");\n",
    "    plt.scatter(x_test_np, Var_to_nparray(output_test), label=\"test prediction\");\n",
    "    plt.scatter(x_test_np, y_test_np, label=\"test data\");\n",
    "    plt.legend();\n",
    "    plt.xlabel(\"x\");\n",
    "    plt.ylabel(\"y\");\n",
    "else:\n",
    "    plt.scatter(x_train_np[:,1], y_train, label=\"train data\");\n",
    "    plt.scatter(x_test_np[:,1], Var_to_nparray(output_test), label=\"test data prediction\");\n",
    "    plt.scatter(x_test_np[:,1], y_test_np, label=\"test data\");\n",
    "    plt.legend();\n",
    "    plt.xlabel(\"x\");\n",
    "    plt.ylabel(\"y\");"
   ]
  },
  {
   "cell_type": "markdown",
   "metadata": {
    "id": "zTBAmjsAFtIk"
   },
   "source": [
    "## Exercise k) Show overfitting, underfitting and just right fitting\n",
    "\n",
    "Vary the architecture and other things to show clear signs of overfitting (=training loss significantly lower than test loss) and underfitting (=not fitting enoung to training data so that test performance is also hurt).\n",
    "\n",
    "See also if you can get a good compromise which leads to a low validation loss. \n",
    "\n",
    "For this problem do you see any big difference between validation and test loss? The answer here will probably be no. Discuss cases where it is important to keep the two separate.\n",
    "\n",
    "_Insert written answer here._\n"
   ]
  },
  {
   "cell_type": "code",
   "execution_count": 34,
   "metadata": {
    "id": "tQZCn2dxFtIl"
   },
   "outputs": [],
   "source": [
    "# Insert your code for getting overfitting, underfitting and just right fitting"
   ]
  },
  {
   "cell_type": "markdown",
   "metadata": {
    "id": "fYPZP-eTFtIo"
   },
   "source": [
    "# Next steps - classification\n",
    "\n",
    "It is straight forward to extend what we have done to classification. \n",
    "\n",
    "For numerical stability it is better to make softmax and cross-entropy as one function so we write the cross entropy loss as a function of the logits we talked about last week. \n",
    "\n",
    "Next week we will see how to perform classification in PyTorch."
   ]
  },
  {
   "cell_type": "markdown",
   "metadata": {
    "id": "qsVPul3QFtIo"
   },
   "source": [
    "## Exercise l) optional - Implement backpropagation for classification\n",
    "\n",
    "Should be possible with very few lines of code. :-)"
   ]
  },
  {
   "cell_type": "code",
   "execution_count": 35,
   "metadata": {
    "id": "oC8QrI2tFtIp"
   },
   "outputs": [],
   "source": [
    "# Just add code."
   ]
  },
  {
   "cell_type": "markdown",
   "metadata": {
    "id": "APqhJv3tta1O"
   },
   "source": [
    "## Exercise m) optional - Introduce a NeuralNetwork class\n",
    "\n",
    "The functions we applied on the neural network (parameters, update_parameters and zero_gradients) can more naturally be included as methods in a NeuralNetwork class. Make such a class and modify the code to use it. "
   ]
  },
  {
   "cell_type": "code",
   "execution_count": 36,
   "metadata": {
    "id": "Dqfnor1ouMLq"
   },
   "outputs": [],
   "source": [
    "# just add some code"
   ]
  }
 ],
 "metadata": {
  "anaconda-cloud": {},
  "colab": {
   "name": "2.1-EXE-FNN-AutoDif-Nanograd.ipynb",
   "provenance": []
  },
  "kernelspec": {
   "display_name": "Python 3",
   "language": "python",
   "name": "python3"
  },
  "language_info": {
   "codemirror_mode": {
    "name": "ipython",
    "version": 3
   },
   "file_extension": ".py",
   "mimetype": "text/x-python",
   "name": "python",
   "nbconvert_exporter": "python",
   "pygments_lexer": "ipython3",
   "version": "3.8.3"
  }
 },
 "nbformat": 4,
 "nbformat_minor": 1
}
